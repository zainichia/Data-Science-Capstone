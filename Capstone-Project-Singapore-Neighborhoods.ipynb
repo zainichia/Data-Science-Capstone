{
 "cells": [
  {
   "cell_type": "markdown",
   "metadata": {},
   "source": [
    "# Capstone Project - Analysing Neighbourhoods in Singapore"
   ]
  },
  {
   "cell_type": "markdown",
   "metadata": {},
   "source": [
    "### Introduction\n",
    "\n",
    "Singapore is a small nation-state, and we are one of the most densest countries in the world; actually, we are ***the*** [second-most](https://en.wikipedia.org/wiki/List_of_countries_and_dependencies_by_population_density) dense country in the world.\n",
    "\n",
    "We are also considered a very developed country, with high standards of education, healthcare, and personal safety.\n",
    "This makes Singapore ***the*** [most expensive city](https://www.economist.com/graphic-detail/2018/03/15/asian-and-european-cities-compete-for-the-title-of-most-expensive-city) in the world to live in, especially for expats."
   ]
  },
  {
   "cell_type": "markdown",
   "metadata": {},
   "source": [
    "### Business Problem\n",
    "\n",
    "Which leads to the business problem: how does one find a place to live in? Of course the most obvious answer is in the central area, but the prices there are prohibitively expensive (unless you are the [CEO of Dyson](https://www.bbc.com/news/business-48932334))\n",
    "\n",
    "And so this is the main question I will attempt to answer for my project: how does one find a place to stay in Singapore? What are the main amenities and facilities in each area, that would suit a prospective buyer?\n",
    "\n",
    "Given the high cost of buying/renting a house in Singapore, this analysis would be able to help not only expats, but also local Singaporeans like myself who are looking for a place to stay. I hope that I am able to shed some insight on the different neighbourhoods in Singapore and what they might offer to a prospective buyer."
   ]
  },
  {
   "cell_type": "markdown",
   "metadata": {},
   "source": [
    "### Data\n",
    "\n",
    "My main data sources will be Foursquare and Wikipedia. I will be using Wikipedia mainly to extract a table of the neighbourhoods in Singapore. Singapore is a very tightly controlled nation-state, and the government works hard to ensure that every single plot of land is used as effectively as possible. This leads to the government-created [\"Planning Areas\"](https://en.wikipedia.org/wiki/Planning_Areas_of_Singapore) for Singapore.\n",
    "\n",
    "There are 55 such areas, and the purpose/design of each area has been carefully planned and thought out. \n",
    "Of course, not all these areas are meant for housing, and so I will need to carefully filter the data to ensure that I only select the areas which are designated for housing.\n",
    "\n",
    "I will then use Foursquare to extract data on each of these planning areas. Singapore's size and [highly developed transport infrastructure](https://www.straitstimes.com/singapore/transport/spore-public-transport-system-tops-global-list) will mean that I will need to carefully tweak the \"limit\" and \"radius\" parameters when using the Foursquare API. I will go into more detail in the methodology section.\n",
    "\n",
    "Using the data extracted, I hope to run clustering and other machine learning techniques to uncover some insights on all the different neighborhoods in Singapore; although we are quite a small nation, our neighborhoods are not as homogenous as one may think."
   ]
  }
 ],
 "metadata": {
  "kernelspec": {
   "display_name": "Python 3",
   "language": "python",
   "name": "python3"
  },
  "language_info": {
   "codemirror_mode": {
    "name": "ipython",
    "version": 3
   },
   "file_extension": ".py",
   "mimetype": "text/x-python",
   "name": "python",
   "nbconvert_exporter": "python",
   "pygments_lexer": "ipython3",
   "version": "3.7.3"
  }
 },
 "nbformat": 4,
 "nbformat_minor": 2
}
